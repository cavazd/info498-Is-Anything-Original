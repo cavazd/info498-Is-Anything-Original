{
 "cells": [
  {
   "cell_type": "code",
   "execution_count": 74,
   "metadata": {},
   "outputs": [],
   "source": [
    "def get_movie_by_id(id):\n",
    "    api_key = '716978917b3565e92ac410463f95122c'\n",
    "    url = f\"https://api.themoviedb.org/3/find/{id}?external_source=imdb_id&api_key={api_key}\"\n",
    "    res = requests.get(url)\n",
    "    # hope the first value is the movie we are looking for\n",
    "    return res"
   ]
  },
  {
   "cell_type": "code",
   "execution_count": 77,
   "metadata": {},
   "outputs": [],
   "source": [
    "res = get_movie_by_id('tt0120448')"
   ]
  },
  {
   "cell_type": "code",
   "execution_count": 88,
   "metadata": {},
   "outputs": [
    {
     "data": {
      "text/plain": [
       "{'adult': False,\n",
       " 'backdrop_path': '/8nzazBKjnS4VlV74MKbPsnpbKaX.jpg',\n",
       " 'id': 27067,\n",
       " 'title': 'The Life of Jesus',\n",
       " 'original_language': 'fr',\n",
       " 'original_title': 'La Vie de Jésus',\n",
       " 'overview': 'Twenty-something Freddy is becalmed in a podunk French village where the only sign of life is the local amateur brass band and youth aimlessly roaming around the countryside on scooters. He has an intense sexual connection with his girlfriend but has no joy or passion to give her. When she falls for a handsome Arab youth a tragedy unfolds.',\n",
       " 'poster_path': '/mY7yWPN61wqpCIGVtNjInGidyJk.jpg',\n",
       " 'media_type': 'movie',\n",
       " 'genre_ids': [18],\n",
       " 'popularity': 4.213,\n",
       " 'release_date': '1997-06-04',\n",
       " 'video': False,\n",
       " 'vote_average': 6.711,\n",
       " 'vote_count': 71}"
      ]
     },
     "execution_count": 88,
     "metadata": {},
     "output_type": "execute_result"
    }
   ],
   "source": [
    "res.json()['movie_results'][0]"
   ]
  }
 ],
 "metadata": {
  "kernelspec": {
   "display_name": "Python 3",
   "language": "python",
   "name": "python3"
  },
  "language_info": {
   "codemirror_mode": {
    "name": "ipython",
    "version": 3
   },
   "file_extension": ".py",
   "mimetype": "text/x-python",
   "name": "python",
   "nbconvert_exporter": "python",
   "pygments_lexer": "ipython3",
   "version": "3.10.6"
  },
  "orig_nbformat": 4
 },
 "nbformat": 4,
 "nbformat_minor": 2
}
