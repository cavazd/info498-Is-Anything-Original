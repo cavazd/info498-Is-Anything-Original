{
 "cells": [
  {
   "cell_type": "markdown",
   "id": "concerned-controversy",
   "metadata": {},
   "source": [
    "# Data Visualization"
   ]
  },
  {
   "cell_type": "markdown",
   "id": "biological-principle",
   "metadata": {},
   "source": [
    "## Import Libraries"
   ]
  },
  {
   "cell_type": "code",
   "execution_count": 2,
   "id": "synthetic-rachel",
   "metadata": {},
   "outputs": [],
   "source": [
    "import pandas as pd\n",
    "import matplotlib.pyplot as plt"
   ]
  },
  {
   "cell_type": "markdown",
   "id": "different-empty",
   "metadata": {},
   "source": [
    "## Set up Display Setting"
   ]
  },
  {
   "cell_type": "code",
   "execution_count": 3,
   "id": "norwegian-circus",
   "metadata": {},
   "outputs": [],
   "source": [
    "pd.options.display.max_colwidth = 100"
   ]
  },
  {
   "cell_type": "markdown",
   "id": "gross-organization",
   "metadata": {},
   "source": [
    "## Get data\n",
    "\n",
    "Read the dataset "
   ]
  },
  {
   "cell_type": "code",
   "execution_count": 4,
   "id": "brave-setting",
   "metadata": {},
   "outputs": [],
   "source": [
    "movies_df = pd.read_csv('data/extended_info.csv', delimiter=\",\", encoding='utf-8')"
   ]
  },
  {
   "cell_type": "markdown",
   "id": "broadband-spanish",
   "metadata": {},
   "source": [
    "## General Information\n",
    "\n",
    "Get an overview of the data \n",
    "Examine random rows of the DataFrame"
   ]
  },
  {
   "cell_type": "code",
   "execution_count": 5,
   "id": "hearing-parish",
   "metadata": {},
   "outputs": [
    {
     "data": {
      "text/html": [
       "<div>\n",
       "<style scoped>\n",
       "    .dataframe tbody tr th:only-of-type {\n",
       "        vertical-align: middle;\n",
       "    }\n",
       "\n",
       "    .dataframe tbody tr th {\n",
       "        vertical-align: top;\n",
       "    }\n",
       "\n",
       "    .dataframe thead th {\n",
       "        text-align: right;\n",
       "    }\n",
       "</style>\n",
       "<table border=\"1\" class=\"dataframe\">\n",
       "  <thead>\n",
       "    <tr style=\"text-align: right;\">\n",
       "      <th></th>\n",
       "      <th>original_language</th>\n",
       "      <th>original_title</th>\n",
       "      <th>overview</th>\n",
       "      <th>popularity</th>\n",
       "      <th>release_date</th>\n",
       "      <th>vote_average</th>\n",
       "      <th>vote_count</th>\n",
       "      <th>movie</th>\n",
       "      <th>year</th>\n",
       "      <th>status</th>\n",
       "    </tr>\n",
       "  </thead>\n",
       "  <tbody>\n",
       "    <tr>\n",
       "      <th>895</th>\n",
       "      <td>en</td>\n",
       "      <td>The Incredible Journey</td>\n",
       "      <td>The story of three pets, a cat and two dogs, who lose their owners when they are all on vacation...</td>\n",
       "      <td>4.615</td>\n",
       "      <td>1963-11-20</td>\n",
       "      <td>6.677</td>\n",
       "      <td>93.0</td>\n",
       "      <td>The Incredible Journey</td>\n",
       "      <td>1963</td>\n",
       "      <td>original</td>\n",
       "    </tr>\n",
       "    <tr>\n",
       "      <th>734</th>\n",
       "      <td>en</td>\n",
       "      <td>A Bucket of Blood</td>\n",
       "      <td>Nerdy Walter Paisley, a maladroit busboy at a beatnik café who doesn't fit in with the cool scen...</td>\n",
       "      <td>7.949</td>\n",
       "      <td>1959-10-21</td>\n",
       "      <td>6.508</td>\n",
       "      <td>121.0</td>\n",
       "      <td>A Bucket of Blood</td>\n",
       "      <td>1959</td>\n",
       "      <td>original</td>\n",
       "    </tr>\n",
       "    <tr>\n",
       "      <th>1089</th>\n",
       "      <td>en</td>\n",
       "      <td>Runaway Daughters</td>\n",
       "      <td>Three teenagers with troubled families are unable to adjust at home and in high-school. Tempted ...</td>\n",
       "      <td>0.708</td>\n",
       "      <td>1956-01-20</td>\n",
       "      <td>5.250</td>\n",
       "      <td>2.0</td>\n",
       "      <td>Runaway Daughters</td>\n",
       "      <td>1956</td>\n",
       "      <td>original</td>\n",
       "    </tr>\n",
       "    <tr>\n",
       "      <th>639</th>\n",
       "      <td>en</td>\n",
       "      <td>Sorcerer</td>\n",
       "      <td>Four men from different parts of the globe, all hiding from their pasts in the same remote South...</td>\n",
       "      <td>8.493</td>\n",
       "      <td>1977-06-24</td>\n",
       "      <td>7.385</td>\n",
       "      <td>386.0</td>\n",
       "      <td>Sorcerer</td>\n",
       "      <td>1977</td>\n",
       "      <td>remake</td>\n",
       "    </tr>\n",
       "    <tr>\n",
       "      <th>304</th>\n",
       "      <td>en</td>\n",
       "      <td>The Jazz Singer</td>\n",
       "      <td>As Jerry Golding scales the heights of show business, he breaks the heart of his father, who'd h...</td>\n",
       "      <td>1.098</td>\n",
       "      <td>1953-02-14</td>\n",
       "      <td>5.800</td>\n",
       "      <td>5.0</td>\n",
       "      <td>The Jazz Singer</td>\n",
       "      <td>1952</td>\n",
       "      <td>remake</td>\n",
       "    </tr>\n",
       "    <tr>\n",
       "      <th>34</th>\n",
       "      <td>en</td>\n",
       "      <td>Attack of the 50 Ft. Woman</td>\n",
       "      <td>When an abused heiress grows to giant size because of her encounter with aliens, she decides to ...</td>\n",
       "      <td>9.865</td>\n",
       "      <td>1994-09-28</td>\n",
       "      <td>4.743</td>\n",
       "      <td>72.0</td>\n",
       "      <td>Attack of the 50 Ft. Woman</td>\n",
       "      <td>1993</td>\n",
       "      <td>remake</td>\n",
       "    </tr>\n",
       "    <tr>\n",
       "      <th>677</th>\n",
       "      <td>en</td>\n",
       "      <td>Arthur</td>\n",
       "      <td>Arthur is a 30-year-old child who will inherit $750 million if he complies with his family's dem...</td>\n",
       "      <td>10.824</td>\n",
       "      <td>1981-07-17</td>\n",
       "      <td>6.504</td>\n",
       "      <td>360.0</td>\n",
       "      <td>Arth</td>\n",
       "      <td>1982</td>\n",
       "      <td>original</td>\n",
       "    </tr>\n",
       "    <tr>\n",
       "      <th>947</th>\n",
       "      <td>en</td>\n",
       "      <td>Little Fugitive</td>\n",
       "      <td>After a prank makes Joey Norton believe he killed his older brother, he runs away from home and ...</td>\n",
       "      <td>4.267</td>\n",
       "      <td>1953-10-01</td>\n",
       "      <td>6.896</td>\n",
       "      <td>53.0</td>\n",
       "      <td>Little Fugitive</td>\n",
       "      <td>1953</td>\n",
       "      <td>original</td>\n",
       "    </tr>\n",
       "    <tr>\n",
       "      <th>1146</th>\n",
       "      <td>en</td>\n",
       "      <td>This Gun for Hire</td>\n",
       "      <td>Sadistic killer-for-hire Philip Raven becomes enraged when his latest job is paid off in marked ...</td>\n",
       "      <td>5.685</td>\n",
       "      <td>1942-04-24</td>\n",
       "      <td>7.000</td>\n",
       "      <td>133.0</td>\n",
       "      <td>This Gun for Hire</td>\n",
       "      <td>1942</td>\n",
       "      <td>original</td>\n",
       "    </tr>\n",
       "    <tr>\n",
       "      <th>1129</th>\n",
       "      <td>en</td>\n",
       "      <td>Swamp Water</td>\n",
       "      <td>A hunter happens upon a fugitive and his daughter living in a Georgia swamp. He falls in love wi...</td>\n",
       "      <td>2.424</td>\n",
       "      <td>1941-11-16</td>\n",
       "      <td>6.235</td>\n",
       "      <td>31.0</td>\n",
       "      <td>Swamp Water</td>\n",
       "      <td>1941</td>\n",
       "      <td>original</td>\n",
       "    </tr>\n",
       "  </tbody>\n",
       "</table>\n",
       "</div>"
      ],
      "text/plain": [
       "     original_language              original_title  \\\n",
       "895                 en      The Incredible Journey   \n",
       "734                 en           A Bucket of Blood   \n",
       "1089                en           Runaway Daughters   \n",
       "639                 en                    Sorcerer   \n",
       "304                 en             The Jazz Singer   \n",
       "34                  en  Attack of the 50 Ft. Woman   \n",
       "677                 en                      Arthur   \n",
       "947                 en             Little Fugitive   \n",
       "1146                en           This Gun for Hire   \n",
       "1129                en                 Swamp Water   \n",
       "\n",
       "                                                                                                 overview  \\\n",
       "895   The story of three pets, a cat and two dogs, who lose their owners when they are all on vacation...   \n",
       "734   Nerdy Walter Paisley, a maladroit busboy at a beatnik café who doesn't fit in with the cool scen...   \n",
       "1089  Three teenagers with troubled families are unable to adjust at home and in high-school. Tempted ...   \n",
       "639   Four men from different parts of the globe, all hiding from their pasts in the same remote South...   \n",
       "304   As Jerry Golding scales the heights of show business, he breaks the heart of his father, who'd h...   \n",
       "34    When an abused heiress grows to giant size because of her encounter with aliens, she decides to ...   \n",
       "677   Arthur is a 30-year-old child who will inherit $750 million if he complies with his family's dem...   \n",
       "947   After a prank makes Joey Norton believe he killed his older brother, he runs away from home and ...   \n",
       "1146  Sadistic killer-for-hire Philip Raven becomes enraged when his latest job is paid off in marked ...   \n",
       "1129  A hunter happens upon a fugitive and his daughter living in a Georgia swamp. He falls in love wi...   \n",
       "\n",
       "      popularity release_date  vote_average  vote_count  \\\n",
       "895        4.615   1963-11-20         6.677        93.0   \n",
       "734        7.949   1959-10-21         6.508       121.0   \n",
       "1089       0.708   1956-01-20         5.250         2.0   \n",
       "639        8.493   1977-06-24         7.385       386.0   \n",
       "304        1.098   1953-02-14         5.800         5.0   \n",
       "34         9.865   1994-09-28         4.743        72.0   \n",
       "677       10.824   1981-07-17         6.504       360.0   \n",
       "947        4.267   1953-10-01         6.896        53.0   \n",
       "1146       5.685   1942-04-24         7.000       133.0   \n",
       "1129       2.424   1941-11-16         6.235        31.0   \n",
       "\n",
       "                           movie  year    status  \n",
       "895       The Incredible Journey  1963  original  \n",
       "734            A Bucket of Blood  1959  original  \n",
       "1089           Runaway Daughters  1956  original  \n",
       "639                     Sorcerer  1977    remake  \n",
       "304              The Jazz Singer  1952    remake  \n",
       "34    Attack of the 50 Ft. Woman  1993    remake  \n",
       "677                         Arth  1982  original  \n",
       "947              Little Fugitive  1953  original  \n",
       "1146           This Gun for Hire  1942  original  \n",
       "1129                 Swamp Water  1941  original  "
      ]
     },
     "execution_count": 5,
     "metadata": {},
     "output_type": "execute_result"
    }
   ],
   "source": [
    "movies_df.sample(10)"
   ]
  },
  {
   "cell_type": "markdown",
   "id": "interested-clarity",
   "metadata": {},
   "source": [
    "Provides descriptive statistics of the movies_df DataFrame, including both numerical and categorical columns."
   ]
  },
  {
   "cell_type": "code",
   "execution_count": 6,
   "id": "large-group",
   "metadata": {},
   "outputs": [
    {
     "data": {
      "text/html": [
       "<div>\n",
       "<style scoped>\n",
       "    .dataframe tbody tr th:only-of-type {\n",
       "        vertical-align: middle;\n",
       "    }\n",
       "\n",
       "    .dataframe tbody tr th {\n",
       "        vertical-align: top;\n",
       "    }\n",
       "\n",
       "    .dataframe thead th {\n",
       "        text-align: right;\n",
       "    }\n",
       "</style>\n",
       "<table border=\"1\" class=\"dataframe\">\n",
       "  <thead>\n",
       "    <tr style=\"text-align: right;\">\n",
       "      <th></th>\n",
       "      <th>original_language</th>\n",
       "      <th>original_title</th>\n",
       "      <th>overview</th>\n",
       "      <th>popularity</th>\n",
       "      <th>release_date</th>\n",
       "      <th>vote_average</th>\n",
       "      <th>vote_count</th>\n",
       "      <th>movie</th>\n",
       "      <th>year</th>\n",
       "      <th>status</th>\n",
       "    </tr>\n",
       "  </thead>\n",
       "  <tbody>\n",
       "    <tr>\n",
       "      <th>count</th>\n",
       "      <td>1149</td>\n",
       "      <td>1149</td>\n",
       "      <td>1145</td>\n",
       "      <td>1149.000000</td>\n",
       "      <td>1149</td>\n",
       "      <td>1149.000000</td>\n",
       "      <td>1149.000000</td>\n",
       "      <td>1197</td>\n",
       "      <td>1197</td>\n",
       "      <td>1197</td>\n",
       "    </tr>\n",
       "    <tr>\n",
       "      <th>unique</th>\n",
       "      <td>30</td>\n",
       "      <td>859</td>\n",
       "      <td>1114</td>\n",
       "      <td>NaN</td>\n",
       "      <td>1083</td>\n",
       "      <td>NaN</td>\n",
       "      <td>NaN</td>\n",
       "      <td>874</td>\n",
       "      <td>111</td>\n",
       "      <td>2</td>\n",
       "    </tr>\n",
       "    <tr>\n",
       "      <th>top</th>\n",
       "      <td>en</td>\n",
       "      <td>Brewster's Millions</td>\n",
       "      <td>An oppressed Mexican peasant village hires seven gunfighters to help defend their homes.</td>\n",
       "      <td>NaN</td>\n",
       "      <td>1960-10-12</td>\n",
       "      <td>NaN</td>\n",
       "      <td>NaN</td>\n",
       "      <td>Brewster's Millions</td>\n",
       "      <td>2006</td>\n",
       "      <td>remake</td>\n",
       "    </tr>\n",
       "    <tr>\n",
       "      <th>freq</th>\n",
       "      <td>912</td>\n",
       "      <td>5</td>\n",
       "      <td>4</td>\n",
       "      <td>NaN</td>\n",
       "      <td>4</td>\n",
       "      <td>NaN</td>\n",
       "      <td>NaN</td>\n",
       "      <td>5</td>\n",
       "      <td>33</td>\n",
       "      <td>668</td>\n",
       "    </tr>\n",
       "    <tr>\n",
       "      <th>mean</th>\n",
       "      <td>NaN</td>\n",
       "      <td>NaN</td>\n",
       "      <td>NaN</td>\n",
       "      <td>11.367768</td>\n",
       "      <td>NaN</td>\n",
       "      <td>6.204219</td>\n",
       "      <td>873.847694</td>\n",
       "      <td>NaN</td>\n",
       "      <td>NaN</td>\n",
       "      <td>NaN</td>\n",
       "    </tr>\n",
       "    <tr>\n",
       "      <th>std</th>\n",
       "      <td>NaN</td>\n",
       "      <td>NaN</td>\n",
       "      <td>NaN</td>\n",
       "      <td>17.888068</td>\n",
       "      <td>NaN</td>\n",
       "      <td>1.495829</td>\n",
       "      <td>1954.895235</td>\n",
       "      <td>NaN</td>\n",
       "      <td>NaN</td>\n",
       "      <td>NaN</td>\n",
       "    </tr>\n",
       "    <tr>\n",
       "      <th>min</th>\n",
       "      <td>NaN</td>\n",
       "      <td>NaN</td>\n",
       "      <td>NaN</td>\n",
       "      <td>0.600000</td>\n",
       "      <td>NaN</td>\n",
       "      <td>0.000000</td>\n",
       "      <td>0.000000</td>\n",
       "      <td>NaN</td>\n",
       "      <td>NaN</td>\n",
       "      <td>NaN</td>\n",
       "    </tr>\n",
       "    <tr>\n",
       "      <th>25%</th>\n",
       "      <td>NaN</td>\n",
       "      <td>NaN</td>\n",
       "      <td>NaN</td>\n",
       "      <td>2.956000</td>\n",
       "      <td>NaN</td>\n",
       "      <td>5.793000</td>\n",
       "      <td>22.000000</td>\n",
       "      <td>NaN</td>\n",
       "      <td>NaN</td>\n",
       "      <td>NaN</td>\n",
       "    </tr>\n",
       "    <tr>\n",
       "      <th>50%</th>\n",
       "      <td>NaN</td>\n",
       "      <td>NaN</td>\n",
       "      <td>NaN</td>\n",
       "      <td>7.956000</td>\n",
       "      <td>NaN</td>\n",
       "      <td>6.477000</td>\n",
       "      <td>143.000000</td>\n",
       "      <td>NaN</td>\n",
       "      <td>NaN</td>\n",
       "      <td>NaN</td>\n",
       "    </tr>\n",
       "    <tr>\n",
       "      <th>75%</th>\n",
       "      <td>NaN</td>\n",
       "      <td>NaN</td>\n",
       "      <td>NaN</td>\n",
       "      <td>13.724000</td>\n",
       "      <td>NaN</td>\n",
       "      <td>7.098000</td>\n",
       "      <td>752.000000</td>\n",
       "      <td>NaN</td>\n",
       "      <td>NaN</td>\n",
       "      <td>NaN</td>\n",
       "    </tr>\n",
       "    <tr>\n",
       "      <th>max</th>\n",
       "      <td>NaN</td>\n",
       "      <td>NaN</td>\n",
       "      <td>NaN</td>\n",
       "      <td>439.410000</td>\n",
       "      <td>NaN</td>\n",
       "      <td>10.000000</td>\n",
       "      <td>19867.000000</td>\n",
       "      <td>NaN</td>\n",
       "      <td>NaN</td>\n",
       "      <td>NaN</td>\n",
       "    </tr>\n",
       "  </tbody>\n",
       "</table>\n",
       "</div>"
      ],
      "text/plain": [
       "       original_language       original_title  \\\n",
       "count               1149                 1149   \n",
       "unique                30                  859   \n",
       "top                   en  Brewster's Millions   \n",
       "freq                 912                    5   \n",
       "mean                 NaN                  NaN   \n",
       "std                  NaN                  NaN   \n",
       "min                  NaN                  NaN   \n",
       "25%                  NaN                  NaN   \n",
       "50%                  NaN                  NaN   \n",
       "75%                  NaN                  NaN   \n",
       "max                  NaN                  NaN   \n",
       "\n",
       "                                                                                        overview  \\\n",
       "count                                                                                       1145   \n",
       "unique                                                                                      1114   \n",
       "top     An oppressed Mexican peasant village hires seven gunfighters to help defend their homes.   \n",
       "freq                                                                                           4   \n",
       "mean                                                                                         NaN   \n",
       "std                                                                                          NaN   \n",
       "min                                                                                          NaN   \n",
       "25%                                                                                          NaN   \n",
       "50%                                                                                          NaN   \n",
       "75%                                                                                          NaN   \n",
       "max                                                                                          NaN   \n",
       "\n",
       "         popularity release_date  vote_average    vote_count  \\\n",
       "count   1149.000000         1149   1149.000000   1149.000000   \n",
       "unique          NaN         1083           NaN           NaN   \n",
       "top             NaN   1960-10-12           NaN           NaN   \n",
       "freq            NaN            4           NaN           NaN   \n",
       "mean      11.367768          NaN      6.204219    873.847694   \n",
       "std       17.888068          NaN      1.495829   1954.895235   \n",
       "min        0.600000          NaN      0.000000      0.000000   \n",
       "25%        2.956000          NaN      5.793000     22.000000   \n",
       "50%        7.956000          NaN      6.477000    143.000000   \n",
       "75%       13.724000          NaN      7.098000    752.000000   \n",
       "max      439.410000          NaN     10.000000  19867.000000   \n",
       "\n",
       "                      movie  year  status  \n",
       "count                  1197  1197    1197  \n",
       "unique                  874   111       2  \n",
       "top     Brewster's Millions  2006  remake  \n",
       "freq                      5    33     668  \n",
       "mean                    NaN   NaN     NaN  \n",
       "std                     NaN   NaN     NaN  \n",
       "min                     NaN   NaN     NaN  \n",
       "25%                     NaN   NaN     NaN  \n",
       "50%                     NaN   NaN     NaN  \n",
       "75%                     NaN   NaN     NaN  \n",
       "max                     NaN   NaN     NaN  "
      ]
     },
     "execution_count": 6,
     "metadata": {},
     "output_type": "execute_result"
    }
   ],
   "source": [
    "movies_df.describe(include='all')"
   ]
  },
  {
   "cell_type": "markdown",
   "id": "abandoned-geography",
   "metadata": {},
   "source": [
    "## Data Analysis "
   ]
  },
  {
   "cell_type": "markdown",
   "id": "dirty-quest",
   "metadata": {},
   "source": [
    "To find out what is the majority language of the movies in the dataset"
   ]
  },
  {
   "cell_type": "code",
   "execution_count": 7,
   "id": "improved-lyric",
   "metadata": {},
   "outputs": [
    {
     "data": {
      "image/png": "[encoded data removed]",
      "text/plain": [
       "<Figure size 432x288 with 1 Axes>"
      ]
     },
     "metadata": {
      "needs_background": "light"
     },
     "output_type": "display_data"
    }
   ],
   "source": [
    "language_counts = movies_df['original_language'].value_counts()\n",
    "\n",
    "# Create the bar plot\n",
    "plt.bar(language_counts.index, language_counts)\n",
    "\n",
    "# Add labels and title\n",
    "plt.xlabel('Original Languages')\n",
    "plt.ylabel('Counts')\n",
    "plt.title('Language Counts')\n",
    "\n",
    "\n",
    "# Display the plot\n",
    "plt.show()"
   ]
  },
  {
   "cell_type": "markdown",
   "id": "stuffed-coaching",
   "metadata": {},
   "source": [
    "To find out what is the top 10 movies that has the highest popularity score in the dataset"
   ]
  },
  {
   "cell_type": "code",
   "execution_count": 8,
   "id": "gothic-subdivision",
   "metadata": {},
   "outputs": [
    {
     "data": {
      "image/png": "[encoded data removed]",
      "text/plain": [
       "<Figure size 432x288 with 1 Axes>"
      ]
     },
     "metadata": {
      "needs_background": "light"
     },
     "output_type": "display_data"
    }
   ],
   "source": [
    "# Sort the DataFrame by popularity in descending order\n",
    "sorted_df = movies_df.sort_values('popularity', ascending=False)\n",
    "\n",
    "# Select the top 10 movies\n",
    "top_10_popularity = sorted_df.head(10)\n",
    "\n",
    "# Create the bar plot\n",
    "plt.barh(top_10_popularity['original_title'], top_10_popularity['popularity'])\n",
    "\n",
    "# Add labels and title\n",
    "plt.xlabel('Movie Titles')\n",
    "plt.ylabel('Popularity')\n",
    "plt.title('Top 10 Popularity by Movie')\n",
    "\n",
    "# Display the plot\n",
    "plt.show()"
   ]
  },
  {
   "cell_type": "code",
   "execution_count": 10,
   "id": "dress-smoke",
   "metadata": {},
   "outputs": [
    {
     "name": "stdout",
     "output_type": "stream",
     "text": [
      "Movie: The Little Mermaid, Release date: 2023-05-18\n",
      "Movie: Turning Red, Release date: 2022-03-10\n",
      "Movie: The Little Mermaid, Release date: 1989-11-17\n",
      "Movie: The Godfather, Release date: 1972-03-14\n",
      "Movie: Evil Dead, Release date: 2013-04-05\n",
      "Movie: The Lion King, Release date: 1994-06-23\n",
      "Movie: Wrath of Man, Release date: 2021-04-22\n",
      "Movie: Prancer: A Christmas Tale, Release date: 2022-11-22\n",
      "Movie: Harry Potter and the Chamber of Secrets, Release date: 2002-11-13\n",
      "Movie: The Evil Dead, Release date: 1981-09-10\n"
     ]
    }
   ],
   "source": [
    "for index, row in top_10_popularity.iterrows():\n",
    "    print(f\"Movie: {row['original_title']}, Release date: {row['release_date']}\")"
   ]
  },
  {
   "cell_type": "markdown",
   "id": "orange-priority",
   "metadata": {},
   "source": [
    "To find out what is the top 10 movies that get the most votes counts and see if it matches with the popularity score result"
   ]
  },
  {
   "cell_type": "code",
   "execution_count": 12,
   "id": "impossible-outside",
   "metadata": {},
   "outputs": [
    {
     "data": {
      "image/png": "[encoded data removed]",
      "text/plain": [
       "<Figure size 432x288 with 1 Axes>"
      ]
     },
     "metadata": {
      "needs_background": "light"
     },
     "output_type": "display_data"
    }
   ],
   "source": [
    "# Sort the DataFrame by vote counts in descending order\n",
    "sorted_df = movies_df.sort_values('vote_count', ascending=False)\n",
    "\n",
    "# Select the top 10 movies\n",
    "top_10_counts = sorted_df.head(10)\n",
    "\n",
    "# Create the bar plot\n",
    "plt.barh(top_10_counts['original_title'], top_10_counts['vote_count'])\n",
    "\n",
    "# Add labels and title\n",
    "plt.xlabel('Movie Titles')\n",
    "plt.ylabel('Counts')\n",
    "plt.title('Top 10 Vote Counts Movies')\n",
    "\n",
    "\n",
    "# Display the plot\n",
    "plt.show()"
   ]
  },
  {
   "cell_type": "code",
   "execution_count": 13,
   "id": "unique-ultimate",
   "metadata": {},
   "outputs": [
    {
     "name": "stdout",
     "output_type": "stream",
     "text": [
      "Movie: Harry Potter and the Chamber of Secrets, Release date: 2002-11-13\n",
      "Movie: The Godfather, Release date: 1972-03-14\n",
      "Movie: The Lion King, Release date: 1994-06-23\n",
      "Movie: Intouchables, Release date: 2011-11-02\n",
      "Movie: Beauty and the Beast, Release date: 2017-03-16\n",
      "Movie: I Am Legend, Release date: 2007-12-12\n",
      "Movie: Charlie and the Chocolate Factory, Release date: 2005-07-13\n",
      "Movie: The Departed, Release date: 2006-10-04\n",
      "Movie: A Star Is Born, Release date: 2018-09-20\n",
      "Movie: Ocean's Eleven, Release date: 2001-12-07\n"
     ]
    }
   ],
   "source": [
    "for index, row in top_10_counts.iterrows():\n",
    "    print(f\"Movie: {row['original_title']}, Release date: {row['release_date']}\")"
   ]
  },
  {
   "cell_type": "markdown",
   "id": "apparent-token",
   "metadata": {},
   "source": [
    "The vote counts and popularity score does not matches well.\n",
    "It could because that people vote for the movies that make them want to comment about it. It could be positive or negative.\n",
    "However, the popularity score is based on page views."
   ]
  },
  {
   "cell_type": "markdown",
   "id": "military-capability",
   "metadata": {},
   "source": [
    "To find out the top 10 movies that is in English in vote average score.\n",
    "In order to avoid the effect of outliers, I set the filter for vote counts to be higher than the mean."
   ]
  },
  {
   "cell_type": "code",
   "execution_count": 14,
   "id": "documentary-logic",
   "metadata": {},
   "outputs": [
    {
     "data": {
      "image/png": "[encoded data removed]",
      "text/plain": [
       "<Figure size 432x288 with 1 Axes>"
      ]
     },
     "metadata": {
      "needs_background": "light"
     },
     "output_type": "display_data"
    }
   ],
   "source": [
    "# Filter the DataFrame \n",
    "language_filter = movies_df['original_language'] == 'en'\n",
    "vote_count_filter = movies_df['vote_count'] > 874\n",
    "\n",
    "# Sort the DataFrame by vote average in descending order\n",
    "sorted_df = movies_df.loc[language_filter&vote_count_filter].sort_values('vote_average', ascending=False)\n",
    "\n",
    "# Select the top 10 movies\n",
    "top_10_vote_average = sorted_df.head(10)\n",
    "\n",
    "# Create the bar plot\n",
    "plt.barh(top_10_vote_average['original_title'], top_10_vote_average['vote_average'])\n",
    "\n",
    "# Add labels and title\n",
    "plt.xlabel('Movie Titles')\n",
    "plt.ylabel('Vote Average')\n",
    "plt.title('Top 10 Vote Average Movies')\n",
    "\n",
    "# Display the plot\n",
    "plt.show()"
   ]
  },
  {
   "cell_type": "code",
   "execution_count": 15,
   "id": "expanded-fifty",
   "metadata": {},
   "outputs": [
    {
     "name": "stdout",
     "output_type": "stream",
     "text": [
      "Movie: The Godfather, Release date: 1972-03-14\n",
      "Movie: Psycho, Release date: 1960-06-22\n",
      "Movie: Rear Window, Release date: 1954-08-01\n",
      "Movie: The Lion King, Release date: 1994-06-23\n",
      "Movie: It's a Wonderful Life, Release date: 1946-12-20\n",
      "Movie: Witness for the Prosecution, Release date: 1957-12-17\n",
      "Movie: Scarface, Release date: 1983-12-09\n",
      "Movie: The Departed, Release date: 2006-10-04\n",
      "Movie: Double Indemnity, Release date: 1944-06-14\n",
      "Movie: The Thing, Release date: 1982-06-25\n"
     ]
    }
   ],
   "source": [
    "for index, row in top_10_vote_average.iterrows():\n",
    "    print(f\"Movie: {row['original_title']}, Release date: {row['release_date']}\")"
   ]
  }
 ],
 "metadata": {
  "kernelspec": {
   "display_name": "Python 3",
   "language": "python",
   "name": "python3"
  },
  "language_info": {
   "codemirror_mode": {
    "name": "ipython",
    "version": 3
   },
   "file_extension": ".py",
   "mimetype": "text/x-python",
   "name": "python",
   "nbconvert_exporter": "python",
   "pygments_lexer": "ipython3",
   "version": "3.8.8"
  }
 },
 "nbformat": 4,
 "nbformat_minor": 5
}
