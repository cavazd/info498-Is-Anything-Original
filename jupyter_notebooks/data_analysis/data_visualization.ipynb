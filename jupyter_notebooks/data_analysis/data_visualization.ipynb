{
 "cells": [
  {
   "attachments": {},
   "cell_type": "markdown",
   "id": "conventional-missile",
   "metadata": {},
   "source": [
    "# Data Visualization"
   ]
  },
  {
   "attachments": {},
   "cell_type": "markdown",
   "id": "living-samba",
   "metadata": {},
   "source": [
    "## Import Libraries"
   ]
  },
  {
   "cell_type": "code",
   "execution_count": 1,
   "id": "charitable-weekly",
   "metadata": {},
   "outputs": [],
   "source": [
    "import pandas as pd\n",
    "import matplotlib.pyplot as plt"
   ]
  },
  {
   "attachments": {},
   "cell_type": "markdown",
   "id": "suburban-hungary",
   "metadata": {},
   "source": [
    "## Set up Display Setting"
   ]
  },
  {
   "cell_type": "code",
   "execution_count": 2,
   "id": "roman-crash",
   "metadata": {},
   "outputs": [],
   "source": [
    "pd.options.display.max_colwidth = 100"
   ]
  },
  {
   "attachments": {},
   "cell_type": "markdown",
   "id": "conditional-france",
   "metadata": {},
   "source": [
    "## Get data\n",
    "\n",
    "Read the dataset "
   ]
  },
  {
   "cell_type": "code",
   "execution_count": 3,
   "id": "trained-instruction",
   "metadata": {},
   "outputs": [],
   "source": [
    "movies_df = pd.read_csv('../../data/extended_info.csv', delimiter=\",\", encoding='utf-8')"
   ]
  },
  {
   "attachments": {},
   "cell_type": "markdown",
   "id": "still-flower",
   "metadata": {},
   "source": [
    "## General Information\n",
    "\n",
    "Get an overview of the data \n",
    "Examine random rows of the DataFrame"
   ]
  },
  {
   "cell_type": "code",
   "execution_count": 4,
   "id": "caring-allocation",
   "metadata": {},
   "outputs": [
    {
     "data": {
      "text/html": [
       "<div>\n",
       "<style scoped>\n",
       "    .dataframe tbody tr th:only-of-type {\n",
       "        vertical-align: middle;\n",
       "    }\n",
       "\n",
       "    .dataframe tbody tr th {\n",
       "        vertical-align: top;\n",
       "    }\n",
       "\n",
       "    .dataframe thead th {\n",
       "        text-align: right;\n",
       "    }\n",
       "</style>\n",
       "<table border=\"1\" class=\"dataframe\">\n",
       "  <thead>\n",
       "    <tr style=\"text-align: right;\">\n",
       "      <th></th>\n",
       "      <th>original_language</th>\n",
       "      <th>original_title</th>\n",
       "      <th>overview</th>\n",
       "      <th>popularity</th>\n",
       "      <th>release_date</th>\n",
       "      <th>vote_average</th>\n",
       "      <th>vote_count</th>\n",
       "      <th>movie</th>\n",
       "      <th>year</th>\n",
       "      <th>status</th>\n",
       "    </tr>\n",
       "  </thead>\n",
       "  <tbody>\n",
       "    <tr>\n",
       "      <th>596</th>\n",
       "      <td>NaN</td>\n",
       "      <td>NaN</td>\n",
       "      <td>NaN</td>\n",
       "      <td>NaN</td>\n",
       "      <td>NaN</td>\n",
       "      <td>NaN</td>\n",
       "      <td>NaN</td>\n",
       "      <td>Baghdad Thirudan</td>\n",
       "      <td>1960</td>\n",
       "      <td>remake</td>\n",
       "    </tr>\n",
       "    <tr>\n",
       "      <th>55</th>\n",
       "      <td>en</td>\n",
       "      <td>Beyond a Reasonable Doubt</td>\n",
       "      <td>Remake of a 1956 Fritz Lang film in which a novelist's investigation of a dirty district attorne...</td>\n",
       "      <td>10.591</td>\n",
       "      <td>2009-02-05</td>\n",
       "      <td>5.691</td>\n",
       "      <td>262.0</td>\n",
       "      <td>Beyond a Reasonable Doubt</td>\n",
       "      <td>2009</td>\n",
       "      <td>remake</td>\n",
       "    </tr>\n",
       "    <tr>\n",
       "      <th>431</th>\n",
       "      <td>en</td>\n",
       "      <td>Night and the City</td>\n",
       "      <td>Looking to get rich quick, an unsuccessful lawyer uses dishonest means to try to become a boxing...</td>\n",
       "      <td>5.400</td>\n",
       "      <td>1992-10-11</td>\n",
       "      <td>5.700</td>\n",
       "      <td>62.0</td>\n",
       "      <td>Night and the City</td>\n",
       "      <td>1992</td>\n",
       "      <td>remake</td>\n",
       "    </tr>\n",
       "    <tr>\n",
       "      <th>742</th>\n",
       "      <td>en</td>\n",
       "      <td>Carnival of Souls</td>\n",
       "      <td>Mary Henry ends up the sole survivor of a fatal car accident through mysterious circumstances. T...</td>\n",
       "      <td>8.924</td>\n",
       "      <td>1962-11-02</td>\n",
       "      <td>6.968</td>\n",
       "      <td>387.0</td>\n",
       "      <td>Carnival of Souls</td>\n",
       "      <td>1962</td>\n",
       "      <td>original</td>\n",
       "    </tr>\n",
       "    <tr>\n",
       "      <th>86</th>\n",
       "      <td>en</td>\n",
       "      <td>Brighton Rock</td>\n",
       "      <td>Charts the headlong fall of Pinkie, a razor-wielding disadvantaged teenager with a religious dea...</td>\n",
       "      <td>7.091</td>\n",
       "      <td>2010-09-13</td>\n",
       "      <td>5.694</td>\n",
       "      <td>93.0</td>\n",
       "      <td>Brighton Rock</td>\n",
       "      <td>2010</td>\n",
       "      <td>remake</td>\n",
       "    </tr>\n",
       "    <tr>\n",
       "      <th>399</th>\n",
       "      <td>en</td>\n",
       "      <td>Mother's Day</td>\n",
       "      <td>Crazed members of a sadistic family return to their childhood home to terrorize the new owners.</td>\n",
       "      <td>8.353</td>\n",
       "      <td>2010-09-23</td>\n",
       "      <td>6.518</td>\n",
       "      <td>357.0</td>\n",
       "      <td>Mother's Day</td>\n",
       "      <td>2010</td>\n",
       "      <td>remake</td>\n",
       "    </tr>\n",
       "    <tr>\n",
       "      <th>87</th>\n",
       "      <td>en</td>\n",
       "      <td>Riding High</td>\n",
       "      <td>A horse trainer who has fallen on hard times looks to his horse, Broadway Bill, to finally win t...</td>\n",
       "      <td>1.722</td>\n",
       "      <td>1950-04-12</td>\n",
       "      <td>5.800</td>\n",
       "      <td>6.0</td>\n",
       "      <td>Riding High</td>\n",
       "      <td>1950</td>\n",
       "      <td>remake</td>\n",
       "    </tr>\n",
       "    <tr>\n",
       "      <th>1036</th>\n",
       "      <td>en</td>\n",
       "      <td>Out of the Past</td>\n",
       "      <td>Jeff Bailey seems to be a mundane gas station owner in remote Bridgeport, California. He is dati...</td>\n",
       "      <td>9.242</td>\n",
       "      <td>1947-11-25</td>\n",
       "      <td>7.642</td>\n",
       "      <td>482.0</td>\n",
       "      <td>Out of the Past</td>\n",
       "      <td>1947</td>\n",
       "      <td>original</td>\n",
       "    </tr>\n",
       "    <tr>\n",
       "      <th>976</th>\n",
       "      <td>en</td>\n",
       "      <td>Merton of the Movies</td>\n",
       "      <td>A wannabe film star journeys to Hollywood, but soon finds his dreams do not pan out.</td>\n",
       "      <td>0.600</td>\n",
       "      <td>1924-11-03</td>\n",
       "      <td>0.000</td>\n",
       "      <td>0.0</td>\n",
       "      <td>Merton of the Movies</td>\n",
       "      <td>1924</td>\n",
       "      <td>original</td>\n",
       "    </tr>\n",
       "    <tr>\n",
       "      <th>526</th>\n",
       "      <td>en</td>\n",
       "      <td>Sleeping Car to Trieste</td>\n",
       "      <td>Spies pursue a stolen diary aboard the Orient Express.</td>\n",
       "      <td>0.805</td>\n",
       "      <td>1948-10-06</td>\n",
       "      <td>6.800</td>\n",
       "      <td>8.0</td>\n",
       "      <td>Sleeping Car to Trieste</td>\n",
       "      <td>1948</td>\n",
       "      <td>remake</td>\n",
       "    </tr>\n",
       "  </tbody>\n",
       "</table>\n",
       "</div>"
      ],
      "text/plain": [
       "     original_language             original_title  \\\n",
       "596                NaN                        NaN   \n",
       "55                  en  Beyond a Reasonable Doubt   \n",
       "431                 en         Night and the City   \n",
       "742                 en          Carnival of Souls   \n",
       "86                  en              Brighton Rock   \n",
       "399                 en               Mother's Day   \n",
       "87                  en                Riding High   \n",
       "1036                en            Out of the Past   \n",
       "976                 en       Merton of the Movies   \n",
       "526                 en    Sleeping Car to Trieste   \n",
       "\n",
       "                                                                                                 overview  \\\n",
       "596                                                                                                   NaN   \n",
       "55    Remake of a 1956 Fritz Lang film in which a novelist's investigation of a dirty district attorne...   \n",
       "431   Looking to get rich quick, an unsuccessful lawyer uses dishonest means to try to become a boxing...   \n",
       "742   Mary Henry ends up the sole survivor of a fatal car accident through mysterious circumstances. T...   \n",
       "86    Charts the headlong fall of Pinkie, a razor-wielding disadvantaged teenager with a religious dea...   \n",
       "399       Crazed members of a sadistic family return to their childhood home to terrorize the new owners.   \n",
       "87    A horse trainer who has fallen on hard times looks to his horse, Broadway Bill, to finally win t...   \n",
       "1036  Jeff Bailey seems to be a mundane gas station owner in remote Bridgeport, California. He is dati...   \n",
       "976                  A wannabe film star journeys to Hollywood, but soon finds his dreams do not pan out.   \n",
       "526                                                Spies pursue a stolen diary aboard the Orient Express.   \n",
       "\n",
       "      popularity release_date  vote_average  vote_count  \\\n",
       "596          NaN          NaN           NaN         NaN   \n",
       "55        10.591   2009-02-05         5.691       262.0   \n",
       "431        5.400   1992-10-11         5.700        62.0   \n",
       "742        8.924   1962-11-02         6.968       387.0   \n",
       "86         7.091   2010-09-13         5.694        93.0   \n",
       "399        8.353   2010-09-23         6.518       357.0   \n",
       "87         1.722   1950-04-12         5.800         6.0   \n",
       "1036       9.242   1947-11-25         7.642       482.0   \n",
       "976        0.600   1924-11-03         0.000         0.0   \n",
       "526        0.805   1948-10-06         6.800         8.0   \n",
       "\n",
       "                          movie  year    status  \n",
       "596            Baghdad Thirudan  1960    remake  \n",
       "55    Beyond a Reasonable Doubt  2009    remake  \n",
       "431          Night and the City  1992    remake  \n",
       "742           Carnival of Souls  1962  original  \n",
       "86                Brighton Rock  2010    remake  \n",
       "399                Mother's Day  2010    remake  \n",
       "87                  Riding High  1950    remake  \n",
       "1036            Out of the Past  1947  original  \n",
       "976        Merton of the Movies  1924  original  \n",
       "526     Sleeping Car to Trieste  1948    remake  "
      ]
     },
     "execution_count": 4,
     "metadata": {},
     "output_type": "execute_result"
    }
   ],
   "source": [
    "movies_df.sample(10)"
   ]
  },
  {
   "attachments": {},
   "cell_type": "markdown",
   "id": "sapphire-collectible",
   "metadata": {},
   "source": [
    "Provides descriptive statistics of the movies_df DataFrame, including both numerical and categorical columns."
   ]
  },
  {
   "cell_type": "code",
   "execution_count": 5,
   "id": "sublime-crowd",
   "metadata": {},
   "outputs": [
    {
     "data": {
      "text/html": [
       "<div>\n",
       "<style scoped>\n",
       "    .dataframe tbody tr th:only-of-type {\n",
       "        vertical-align: middle;\n",
       "    }\n",
       "\n",
       "    .dataframe tbody tr th {\n",
       "        vertical-align: top;\n",
       "    }\n",
       "\n",
       "    .dataframe thead th {\n",
       "        text-align: right;\n",
       "    }\n",
       "</style>\n",
       "<table border=\"1\" class=\"dataframe\">\n",
       "  <thead>\n",
       "    <tr style=\"text-align: right;\">\n",
       "      <th></th>\n",
       "      <th>original_language</th>\n",
       "      <th>original_title</th>\n",
       "      <th>overview</th>\n",
       "      <th>popularity</th>\n",
       "      <th>release_date</th>\n",
       "      <th>vote_average</th>\n",
       "      <th>vote_count</th>\n",
       "      <th>movie</th>\n",
       "      <th>year</th>\n",
       "      <th>status</th>\n",
       "    </tr>\n",
       "  </thead>\n",
       "  <tbody>\n",
       "    <tr>\n",
       "      <th>count</th>\n",
       "      <td>1149</td>\n",
       "      <td>1149</td>\n",
       "      <td>1145</td>\n",
       "      <td>1149.000000</td>\n",
       "      <td>1149</td>\n",
       "      <td>1149.000000</td>\n",
       "      <td>1149.000000</td>\n",
       "      <td>1197</td>\n",
       "      <td>1197</td>\n",
       "      <td>1197</td>\n",
       "    </tr>\n",
       "    <tr>\n",
       "      <th>unique</th>\n",
       "      <td>30</td>\n",
       "      <td>859</td>\n",
       "      <td>1114</td>\n",
       "      <td>NaN</td>\n",
       "      <td>1083</td>\n",
       "      <td>NaN</td>\n",
       "      <td>NaN</td>\n",
       "      <td>874</td>\n",
       "      <td>111</td>\n",
       "      <td>2</td>\n",
       "    </tr>\n",
       "    <tr>\n",
       "      <th>top</th>\n",
       "      <td>en</td>\n",
       "      <td>Brewster's Millions</td>\n",
       "      <td>An oppressed Mexican peasant village hires seven gunfighters to help defend their homes.</td>\n",
       "      <td>NaN</td>\n",
       "      <td>1960-10-12</td>\n",
       "      <td>NaN</td>\n",
       "      <td>NaN</td>\n",
       "      <td>Brewster's Millions</td>\n",
       "      <td>2006</td>\n",
       "      <td>remake</td>\n",
       "    </tr>\n",
       "    <tr>\n",
       "      <th>freq</th>\n",
       "      <td>912</td>\n",
       "      <td>5</td>\n",
       "      <td>4</td>\n",
       "      <td>NaN</td>\n",
       "      <td>4</td>\n",
       "      <td>NaN</td>\n",
       "      <td>NaN</td>\n",
       "      <td>5</td>\n",
       "      <td>33</td>\n",
       "      <td>668</td>\n",
       "    </tr>\n",
       "    <tr>\n",
       "      <th>mean</th>\n",
       "      <td>NaN</td>\n",
       "      <td>NaN</td>\n",
       "      <td>NaN</td>\n",
       "      <td>11.367768</td>\n",
       "      <td>NaN</td>\n",
       "      <td>6.204219</td>\n",
       "      <td>873.847694</td>\n",
       "      <td>NaN</td>\n",
       "      <td>NaN</td>\n",
       "      <td>NaN</td>\n",
       "    </tr>\n",
       "    <tr>\n",
       "      <th>std</th>\n",
       "      <td>NaN</td>\n",
       "      <td>NaN</td>\n",
       "      <td>NaN</td>\n",
       "      <td>17.888068</td>\n",
       "      <td>NaN</td>\n",
       "      <td>1.495829</td>\n",
       "      <td>1954.895235</td>\n",
       "      <td>NaN</td>\n",
       "      <td>NaN</td>\n",
       "      <td>NaN</td>\n",
       "    </tr>\n",
       "    <tr>\n",
       "      <th>min</th>\n",
       "      <td>NaN</td>\n",
       "      <td>NaN</td>\n",
       "      <td>NaN</td>\n",
       "      <td>0.600000</td>\n",
       "      <td>NaN</td>\n",
       "      <td>0.000000</td>\n",
       "      <td>0.000000</td>\n",
       "      <td>NaN</td>\n",
       "      <td>NaN</td>\n",
       "      <td>NaN</td>\n",
       "    </tr>\n",
       "    <tr>\n",
       "      <th>25%</th>\n",
       "      <td>NaN</td>\n",
       "      <td>NaN</td>\n",
       "      <td>NaN</td>\n",
       "      <td>2.956000</td>\n",
       "      <td>NaN</td>\n",
       "      <td>5.793000</td>\n",
       "      <td>22.000000</td>\n",
       "      <td>NaN</td>\n",
       "      <td>NaN</td>\n",
       "      <td>NaN</td>\n",
       "    </tr>\n",
       "    <tr>\n",
       "      <th>50%</th>\n",
       "      <td>NaN</td>\n",
       "      <td>NaN</td>\n",
       "      <td>NaN</td>\n",
       "      <td>7.956000</td>\n",
       "      <td>NaN</td>\n",
       "      <td>6.477000</td>\n",
       "      <td>143.000000</td>\n",
       "      <td>NaN</td>\n",
       "      <td>NaN</td>\n",
       "      <td>NaN</td>\n",
       "    </tr>\n",
       "    <tr>\n",
       "      <th>75%</th>\n",
       "      <td>NaN</td>\n",
       "      <td>NaN</td>\n",
       "      <td>NaN</td>\n",
       "      <td>13.724000</td>\n",
       "      <td>NaN</td>\n",
       "      <td>7.098000</td>\n",
       "      <td>752.000000</td>\n",
       "      <td>NaN</td>\n",
       "      <td>NaN</td>\n",
       "      <td>NaN</td>\n",
       "    </tr>\n",
       "    <tr>\n",
       "      <th>max</th>\n",
       "      <td>NaN</td>\n",
       "      <td>NaN</td>\n",
       "      <td>NaN</td>\n",
       "      <td>439.410000</td>\n",
       "      <td>NaN</td>\n",
       "      <td>10.000000</td>\n",
       "      <td>19867.000000</td>\n",
       "      <td>NaN</td>\n",
       "      <td>NaN</td>\n",
       "      <td>NaN</td>\n",
       "    </tr>\n",
       "  </tbody>\n",
       "</table>\n",
       "</div>"
      ],
      "text/plain": [
       "       original_language       original_title  \\\n",
       "count               1149                 1149   \n",
       "unique                30                  859   \n",
       "top                   en  Brewster's Millions   \n",
       "freq                 912                    5   \n",
       "mean                 NaN                  NaN   \n",
       "std                  NaN                  NaN   \n",
       "min                  NaN                  NaN   \n",
       "25%                  NaN                  NaN   \n",
       "50%                  NaN                  NaN   \n",
       "75%                  NaN                  NaN   \n",
       "max                  NaN                  NaN   \n",
       "\n",
       "                                                                                        overview  \\\n",
       "count                                                                                       1145   \n",
       "unique                                                                                      1114   \n",
       "top     An oppressed Mexican peasant village hires seven gunfighters to help defend their homes.   \n",
       "freq                                                                                           4   \n",
       "mean                                                                                         NaN   \n",
       "std                                                                                          NaN   \n",
       "min                                                                                          NaN   \n",
       "25%                                                                                          NaN   \n",
       "50%                                                                                          NaN   \n",
       "75%                                                                                          NaN   \n",
       "max                                                                                          NaN   \n",
       "\n",
       "         popularity release_date  vote_average    vote_count  \\\n",
       "count   1149.000000         1149   1149.000000   1149.000000   \n",
       "unique          NaN         1083           NaN           NaN   \n",
       "top             NaN   1960-10-12           NaN           NaN   \n",
       "freq            NaN            4           NaN           NaN   \n",
       "mean      11.367768          NaN      6.204219    873.847694   \n",
       "std       17.888068          NaN      1.495829   1954.895235   \n",
       "min        0.600000          NaN      0.000000      0.000000   \n",
       "25%        2.956000          NaN      5.793000     22.000000   \n",
       "50%        7.956000          NaN      6.477000    143.000000   \n",
       "75%       13.724000          NaN      7.098000    752.000000   \n",
       "max      439.410000          NaN     10.000000  19867.000000   \n",
       "\n",
       "                      movie  year  status  \n",
       "count                  1197  1197    1197  \n",
       "unique                  874   111       2  \n",
       "top     Brewster's Millions  2006  remake  \n",
       "freq                      5    33     668  \n",
       "mean                    NaN   NaN     NaN  \n",
       "std                     NaN   NaN     NaN  \n",
       "min                     NaN   NaN     NaN  \n",
       "25%                     NaN   NaN     NaN  \n",
       "50%                     NaN   NaN     NaN  \n",
       "75%                     NaN   NaN     NaN  \n",
       "max                     NaN   NaN     NaN  "
      ]
     },
     "execution_count": 5,
     "metadata": {},
     "output_type": "execute_result"
    }
   ],
   "source": [
    "movies_df.describe(include='all')"
   ]
  },
  {
   "attachments": {},
   "cell_type": "markdown",
   "id": "formal-webmaster",
   "metadata": {},
   "source": [
    "## Data Analysis "
   ]
  },
  {
   "attachments": {},
   "cell_type": "markdown",
   "id": "informational-timeline",
   "metadata": {},
   "source": [
    "To find out what is the top 10 language of the movies in the dataset"
   ]
  },
  {
   "cell_type": "code",
   "execution_count": 6,
   "id": "hairy-triumph",
   "metadata": {},
   "outputs": [
    {
     "data": {
      "image/png": "[encoded data removed]",
      "text/plain": [
       "<Figure size 432x288 with 1 Axes>"
      ]
     },
     "metadata": {
      "needs_background": "light"
     },
     "output_type": "display_data"
    }
   ],
   "source": [
    "language_counts = movies_df['original_language'].value_counts().head(10)\n",
    "\n",
    "# Create the bar plot\n",
    "plt.bar(language_counts.index, language_counts)\n",
    "\n",
    "# Add labels and title\n",
    "plt.xlabel('Original Languages')\n",
    "plt.ylabel('Counts')\n",
    "plt.title('Language Counts')\n",
    "plt.ylabel('Counts', rotation='horizontal')\n",
    "\n",
    "# Display the plot\n",
    "plt.show()"
   ]
  },
  {
   "attachments": {},
   "cell_type": "markdown",
   "id": "central-macintosh",
   "metadata": {},
   "source": [
    "To find out what is the top 10 movies that has the highest popularity score in the dataset"
   ]
  },
  {
   "cell_type": "code",
   "execution_count": 7,
   "id": "acute-fossil",
   "metadata": {},
   "outputs": [
    {
     "data": {
      "image/png": "[encoded data removed]",
      "text/plain": [
       "<Figure size 432x288 with 1 Axes>"
      ]
     },
     "metadata": {
      "needs_background": "light"
     },
     "output_type": "display_data"
    }
   ],
   "source": [
    "# Sort the DataFrame by popularity in descending order\n",
    "sorted_df = movies_df.sort_values('popularity', ascending=False)\n",
    "\n",
    "# Select the top 10 movies\n",
    "top_10_popularity = sorted_df.head(10)\n",
    "\n",
    "# Create the bar plot\n",
    "plt.barh(top_10_popularity['original_title'], top_10_popularity['popularity'])\n",
    "\n",
    "# Add labels and title\n",
    "plt.xlabel('Popularity')\n",
    "plt.title('Top 10 Popularity by Movie')\n",
    "\n",
    "\n",
    "# Display the plot\n",
    "plt.show()"
   ]
  },
  {
   "cell_type": "code",
   "execution_count": 8,
   "id": "specialized-salad",
   "metadata": {},
   "outputs": [
    {
     "name": "stdout",
     "output_type": "stream",
     "text": [
      "Movie: The Little Mermaid, Release date: 2023-05-18\n",
      "Movie: Turning Red, Release date: 2022-03-10\n",
      "Movie: The Little Mermaid, Release date: 1989-11-17\n",
      "Movie: The Godfather, Release date: 1972-03-14\n",
      "Movie: Evil Dead, Release date: 2013-04-05\n",
      "Movie: The Lion King, Release date: 1994-06-23\n",
      "Movie: Wrath of Man, Release date: 2021-04-22\n",
      "Movie: Prancer: A Christmas Tale, Release date: 2022-11-22\n",
      "Movie: Harry Potter and the Chamber of Secrets, Release date: 2002-11-13\n",
      "Movie: The Evil Dead, Release date: 1981-09-10\n"
     ]
    }
   ],
   "source": [
    "# iterate over each row of the DataFrame\n",
    "for index, row in top_10_popularity.iterrows():\n",
    "    print(f\"Movie: {row['original_title']}, Release date: {row['release_date']}\")"
   ]
  },
  {
   "attachments": {},
   "cell_type": "markdown",
   "id": "flying-marketing",
   "metadata": {},
   "source": [
    "To find out what is the top 10 movies that get the most votes counts and see if it matches with the popularity score result"
   ]
  },
  {
   "cell_type": "code",
   "execution_count": 9,
   "id": "simplified-picking",
   "metadata": {},
   "outputs": [
    {
     "data": {
      "image/png": "[encoded data removed]",
      "text/plain": [
       "<Figure size 432x288 with 1 Axes>"
      ]
     },
     "metadata": {
      "needs_background": "light"
     },
     "output_type": "display_data"
    }
   ],
   "source": [
    "# Sort the DataFrame by vote counts in descending order\n",
    "sorted_df = movies_df.sort_values('vote_count', ascending=False)\n",
    "\n",
    "# Select the top 10 movies\n",
    "top_10_counts = sorted_df.head(10)\n",
    "\n",
    "# Create the bar plot\n",
    "plt.barh(top_10_counts['original_title'], top_10_counts['vote_count'])\n",
    "\n",
    "# Add labels and title\n",
    "plt.xlabel('Counts')\n",
    "plt.title('Top 10 Vote Counts Movies')\n",
    "\n",
    "\n",
    "# Display the plot\n",
    "plt.show()"
   ]
  },
  {
   "cell_type": "code",
   "execution_count": 10,
   "id": "exciting-technique",
   "metadata": {},
   "outputs": [
    {
     "name": "stdout",
     "output_type": "stream",
     "text": [
      "Movie: Harry Potter and the Chamber of Secrets, Release date: 2002-11-13\n",
      "Movie: The Godfather, Release date: 1972-03-14\n",
      "Movie: The Lion King, Release date: 1994-06-23\n",
      "Movie: Intouchables, Release date: 2011-11-02\n",
      "Movie: Beauty and the Beast, Release date: 2017-03-16\n",
      "Movie: I Am Legend, Release date: 2007-12-12\n",
      "Movie: Charlie and the Chocolate Factory, Release date: 2005-07-13\n",
      "Movie: The Departed, Release date: 2006-10-04\n",
      "Movie: A Star Is Born, Release date: 2018-09-20\n",
      "Movie: Ocean's Eleven, Release date: 2001-12-07\n"
     ]
    }
   ],
   "source": [
    "# iterate over each row of the DataFrame\n",
    "for index, row in top_10_counts.iterrows():\n",
    "    print(f\"Movie: {row['original_title']}, Release date: {row['release_date']}\")"
   ]
  },
  {
   "attachments": {},
   "cell_type": "markdown",
   "id": "meaningful-finland",
   "metadata": {},
   "source": [
    "The vote counts and popularity score does not matches well.\n",
    "It could because that people vote for the movies that make them want to comment about it. It could be positive or negative.\n",
    "However, the popularity score is based on page views."
   ]
  },
  {
   "attachments": {},
   "cell_type": "markdown",
   "id": "north-result",
   "metadata": {},
   "source": [
    "To find out the top 10 movies that is in English in vote average score.\n",
    "In order to avoid the effect of outliers, I set the filter for vote counts to be higher than the mean."
   ]
  },
  {
   "cell_type": "code",
   "execution_count": 11,
   "id": "aging-treasury",
   "metadata": {},
   "outputs": [
    {
     "data": {
      "image/png": "[encoded data removed]",
      "text/plain": [
       "<Figure size 432x288 with 1 Axes>"
      ]
     },
     "metadata": {
      "needs_background": "light"
     },
     "output_type": "display_data"
    }
   ],
   "source": [
    "# Filter the DataFrame \n",
    "language_filter = movies_df['original_language'] == 'en'\n",
    "vote_count_filter = movies_df['vote_count'] > 874\n",
    "\n",
    "# Sort the DataFrame by vote average in descending order\n",
    "sorted_df = movies_df.loc[language_filter&vote_count_filter].sort_values('vote_average', ascending=False)\n",
    "\n",
    "# Select the top 10 movies\n",
    "top_10_vote_average = sorted_df.head(10)\n",
    "\n",
    "# Create the bar plot\n",
    "plt.barh(top_10_vote_average['original_title'], top_10_vote_average['vote_average'])\n",
    "\n",
    "# Add labels and title\n",
    "plt.xlabel('Vote Average')\n",
    "plt.title('Top 10 Vote Average Movies')\n",
    "\n",
    "# Display the plot\n",
    "plt.show()"
   ]
  },
  {
   "cell_type": "code",
   "execution_count": 12,
   "id": "developmental-subscriber",
   "metadata": {},
   "outputs": [
    {
     "name": "stdout",
     "output_type": "stream",
     "text": [
      "Movie: The Godfather, Release date: 1972-03-14\n",
      "Movie: Psycho, Release date: 1960-06-22\n",
      "Movie: Rear Window, Release date: 1954-08-01\n",
      "Movie: The Lion King, Release date: 1994-06-23\n",
      "Movie: It's a Wonderful Life, Release date: 1946-12-20\n",
      "Movie: Witness for the Prosecution, Release date: 1957-12-17\n",
      "Movie: Scarface, Release date: 1983-12-09\n",
      "Movie: The Departed, Release date: 2006-10-04\n",
      "Movie: Double Indemnity, Release date: 1944-06-14\n",
      "Movie: The Thing, Release date: 1982-06-25\n"
     ]
    }
   ],
   "source": [
    "# iterate over each row of the DataFrame\n",
    "for index, row in top_10_vote_average.iterrows():\n",
    "    print(f\"Movie: {row['original_title']}, Release date: {row['release_date']}\")"
   ]
  },
  {
   "attachments": {},
   "cell_type": "markdown",
   "id": "difficult-speech",
   "metadata": {},
   "source": [
    "To find out the distribution of remake movies in recent 10 years "
   ]
  },
  {
   "cell_type": "code",
   "execution_count": 14,
   "id": "unlike-cheese",
   "metadata": {},
   "outputs": [
    {
     "name": "stderr",
     "output_type": "stream",
     "text": [
      "C:\\Users\\Daniel\\AppData\\Local\\Temp\\ipykernel_14164\\1177041600.py:5: SettingWithCopyWarning: \n",
      "A value is trying to be set on a copy of a slice from a DataFrame.\n",
      "Try using .loc[row_indexer,col_indexer] = value instead\n",
      "\n",
      "See the caveats in the documentation: https://pandas.pydata.org/pandas-docs/stable/user_guide/indexing.html#returning-a-view-versus-a-copy\n",
      "  remake_movies['year'] = remake_movies['year'].astype(int)\n"
     ]
    },
    {
     "data": {
      "image/png": "[encoded data removed]",
      "text/plain": [
       "<Figure size 432x288 with 1 Axes>"
      ]
     },
     "metadata": {
      "needs_background": "light"
     },
     "output_type": "display_data"
    }
   ],
   "source": [
    "# Filter the DataFrame to select only the remake movies\n",
    "remake_movies = movies_df[movies_df['status'] == 'remake']\n",
    "\n",
    "# Convert 'year' column to integer data type\n",
    "remake_movies['year'] = remake_movies['year'].astype(int)\n",
    "\n",
    "# Filter the DataFrame to include only the recent 10 years\n",
    "recent_movies = remake_movies[remake_movies['year'] >= (2023 - 10)]\n",
    "\n",
    "# Create a histogram of the release years\n",
    "plt.hist(recent_movies['year'], bins=10, edgecolor='black')\n",
    "\n",
    "# Add labels and title\n",
    "plt.xlabel('Release Year')\n",
    "plt.ylabel('Count')\n",
    "plt.title('Distribution of Release Years for Recent Remake Movies')\n",
    "plt.ylabel('Counts', rotation=45)\n",
    "# Display the plot\n",
    "plt.show()"
   ]
  },
  {
   "attachments": {},
   "cell_type": "markdown",
   "id": "authentic-resistance",
   "metadata": {},
   "source": [
    "To find out the distribution of remake movies in earliest 10 years"
   ]
  },
  {
   "cell_type": "code",
   "execution_count": 19,
   "id": "colonial-correction",
   "metadata": {},
   "outputs": [
    {
     "data": {
      "image/png": "[encoded data removed]",
      "text/plain": [
       "<Figure size 432x288 with 1 Axes>"
      ]
     },
     "metadata": {
      "needs_background": "light"
     },
     "output_type": "display_data"
    }
   ],
   "source": [
    "# Filter the DataFrame to select only the remake movies\n",
    "remake_movies = movies_df[movies_df['status'] == 'remake']\n",
    "\n",
    "# Sort the DataFrame based on release year in ascending order\n",
    "remake_movies_sorted = remake_movies.sort_values('year')\n",
    "\n",
    "# Select the earliest 10 years of remake movies\n",
    "earliest_movies = remake_movies_sorted.head(10)\n",
    "\n",
    "# Create a histogram of the release years\n",
    "plt.hist(earliest_movies['year'], bins=5, edgecolor='black')\n",
    "\n",
    "# Add labels and title\n",
    "plt.xlabel('Release Year')\n",
    "plt.ylabel('Count')\n",
    "plt.title('Distribution of Release Years for Earliest 10 Years of Remake Movies')\n",
    "\n",
    "# Display the plot\n",
    "plt.show()"
   ]
  },
  {
   "cell_type": "code",
   "execution_count": null,
   "id": "elementary-spending",
   "metadata": {},
   "outputs": [],
   "source": []
  }
 ],
 "metadata": {
  "kernelspec": {
   "display_name": "Python 3",
   "language": "python",
   "name": "python3"
  },
  "language_info": {
   "codemirror_mode": {
    "name": "ipython",
    "version": 3
   },
   "file_extension": ".py",
   "mimetype": "text/x-python",
   "name": "python",
   "nbconvert_exporter": "python",
   "pygments_lexer": "ipython3",
   "version": "3.8.3"
  }
 },
 "nbformat": 4,
 "nbformat_minor": 5
}
