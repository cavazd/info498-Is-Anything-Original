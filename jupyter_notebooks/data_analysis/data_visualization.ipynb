{
 "cells": [
  {
   "attachments": {},
   "cell_type": "markdown",
   "id": "superior-neighbor",
   "metadata": {},
   "source": [
    "# Data Visualization"
   ]
  },
  {
   "attachments": {},
   "cell_type": "markdown",
   "id": "handled-shopping",
   "metadata": {},
   "source": [
    "## Import Libraries"
   ]
  },
  {
   "cell_type": "code",
   "execution_count": 1,
   "id": "reliable-nylon",
   "metadata": {},
   "outputs": [],
   "source": [
    "import pandas as pd\n",
    "import matplotlib.pyplot as plt"
   ]
  },
  {
   "attachments": {},
   "cell_type": "markdown",
   "id": "optimum-radiation",
   "metadata": {},
   "source": [
    "## Set up Display Setting"
   ]
  },
  {
   "cell_type": "code",
   "execution_count": 2,
   "id": "hydraulic-attack",
   "metadata": {},
   "outputs": [],
   "source": [
    "pd.options.display.max_colwidth = 100"
   ]
  },
  {
   "attachments": {},
   "cell_type": "markdown",
   "id": "induced-theory",
   "metadata": {},
   "source": [
    "## Get data\n",
    "\n",
    "Read the dataset "
   ]
  },
  {
   "cell_type": "code",
   "execution_count": 3,
   "id": "uniform-governor",
   "metadata": {},
   "outputs": [],
   "source": [
    "movies_df = pd.read_csv('../../data/extended_info.csv', delimiter=\",\", encoding='utf-8')"
   ]
  },
  {
   "attachments": {},
   "cell_type": "markdown",
   "id": "corresponding-reality",
   "metadata": {},
   "source": [
    "## General Information\n",
    "\n",
    "Get an overview of the data \n",
    "Examine random rows of the DataFrame"
   ]
  },
  {
   "cell_type": "code",
   "execution_count": 4,
   "id": "unknown-terrorism",
   "metadata": {},
   "outputs": [
    {
     "data": {
      "text/html": [
       "<div>\n",
       "<style scoped>\n",
       "    .dataframe tbody tr th:only-of-type {\n",
       "        vertical-align: middle;\n",
       "    }\n",
       "\n",
       "    .dataframe tbody tr th {\n",
       "        vertical-align: top;\n",
       "    }\n",
       "\n",
       "    .dataframe thead th {\n",
       "        text-align: right;\n",
       "    }\n",
       "</style>\n",
       "<table border=\"1\" class=\"dataframe\">\n",
       "  <thead>\n",
       "    <tr style=\"text-align: right;\">\n",
       "      <th></th>\n",
       "      <th>original_language</th>\n",
       "      <th>original_title</th>\n",
       "      <th>overview</th>\n",
       "      <th>popularity</th>\n",
       "      <th>release_date</th>\n",
       "      <th>vote_average</th>\n",
       "      <th>vote_count</th>\n",
       "      <th>movie</th>\n",
       "      <th>year</th>\n",
       "      <th>status</th>\n",
       "    </tr>\n",
       "  </thead>\n",
       "  <tbody>\n",
       "    <tr>\n",
       "      <th>28</th>\n",
       "      <td>en</td>\n",
       "      <td>Wicker Park</td>\n",
       "      <td>Matthew, a young advertising executive in Chicago, puts his life and a business trip to China on...</td>\n",
       "      <td>13.522</td>\n",
       "      <td>2004-09-03</td>\n",
       "      <td>6.877</td>\n",
       "      <td>601.0</td>\n",
       "      <td>Wicker Park</td>\n",
       "      <td>2004</td>\n",
       "      <td>remake</td>\n",
       "    </tr>\n",
       "    <tr>\n",
       "      <th>654</th>\n",
       "      <td>en</td>\n",
       "      <td>Witness for the Prosecution</td>\n",
       "      <td>Sir Wilfred Robarts, a famed barrister is released from the hospital, where he stayed for two mo...</td>\n",
       "      <td>4.023</td>\n",
       "      <td>1982-12-04</td>\n",
       "      <td>6.056</td>\n",
       "      <td>9.0</td>\n",
       "      <td>Witness for the Prosecution</td>\n",
       "      <td>1982</td>\n",
       "      <td>remake</td>\n",
       "    </tr>\n",
       "    <tr>\n",
       "      <th>56</th>\n",
       "      <td>en</td>\n",
       "      <td>No Way Out</td>\n",
       "      <td>Navy Lt. Tom Farrell meets a young woman, Susan Atwell , and they share a passionate fling. Farr...</td>\n",
       "      <td>12.791</td>\n",
       "      <td>1987-08-14</td>\n",
       "      <td>6.916</td>\n",
       "      <td>558.0</td>\n",
       "      <td>No Way Out</td>\n",
       "      <td>1987</td>\n",
       "      <td>remake</td>\n",
       "    </tr>\n",
       "    <tr>\n",
       "      <th>606</th>\n",
       "      <td>en</td>\n",
       "      <td>This Gun for Hire</td>\n",
       "      <td>A killer for hire named Raven kills his target. However, he believes that he was just killing an...</td>\n",
       "      <td>0.856</td>\n",
       "      <td>1991-01-09</td>\n",
       "      <td>0.000</td>\n",
       "      <td>0.0</td>\n",
       "      <td>This Gun for Hire</td>\n",
       "      <td>1991</td>\n",
       "      <td>remake</td>\n",
       "    </tr>\n",
       "    <tr>\n",
       "      <th>969</th>\n",
       "      <td>ko</td>\n",
       "      <td>시월애</td>\n",
       "      <td>In the year 1999, a young woman leaves her quaint seaside house and returns to the city, leaving...</td>\n",
       "      <td>7.913</td>\n",
       "      <td>2000-09-09</td>\n",
       "      <td>7.485</td>\n",
       "      <td>132.0</td>\n",
       "      <td>Il Mare</td>\n",
       "      <td>2000</td>\n",
       "      <td>original</td>\n",
       "    </tr>\n",
       "    <tr>\n",
       "      <th>432</th>\n",
       "      <td>en</td>\n",
       "      <td>Night Must Fall</td>\n",
       "      <td>A psychotic killer gets in the good graces of his aging invalid employer, and worms his way into...</td>\n",
       "      <td>0.961</td>\n",
       "      <td>1964-03-18</td>\n",
       "      <td>7.094</td>\n",
       "      <td>16.0</td>\n",
       "      <td>Night Must Fall</td>\n",
       "      <td>1964</td>\n",
       "      <td>remake</td>\n",
       "    </tr>\n",
       "    <tr>\n",
       "      <th>1029</th>\n",
       "      <td>NaN</td>\n",
       "      <td>NaN</td>\n",
       "      <td>NaN</td>\n",
       "      <td>NaN</td>\n",
       "      <td>NaN</td>\n",
       "      <td>NaN</td>\n",
       "      <td>NaN</td>\n",
       "      <td>The One Million Pound Note</td>\n",
       "      <td>1916</td>\n",
       "      <td>original</td>\n",
       "    </tr>\n",
       "    <tr>\n",
       "      <th>137</th>\n",
       "      <td>en</td>\n",
       "      <td>The Day the Earth Stood Still</td>\n",
       "      <td>A representative of an alien race that went through drastic evolution to survive its own climate...</td>\n",
       "      <td>19.049</td>\n",
       "      <td>2008-12-10</td>\n",
       "      <td>5.588</td>\n",
       "      <td>3027.0</td>\n",
       "      <td>The Day the Earth Stood Still</td>\n",
       "      <td>2008</td>\n",
       "      <td>remake</td>\n",
       "    </tr>\n",
       "    <tr>\n",
       "      <th>1191</th>\n",
       "      <td>en</td>\n",
       "      <td>A Yank at Oxford</td>\n",
       "      <td>A brash young American aristocrat attending Oxford University gets a chance to prove himself and...</td>\n",
       "      <td>1.706</td>\n",
       "      <td>1938-02-18</td>\n",
       "      <td>6.778</td>\n",
       "      <td>9.0</td>\n",
       "      <td>A Yank at Oxford</td>\n",
       "      <td>1938</td>\n",
       "      <td>original</td>\n",
       "    </tr>\n",
       "    <tr>\n",
       "      <th>1190</th>\n",
       "      <td>NaN</td>\n",
       "      <td>NaN</td>\n",
       "      <td>NaN</td>\n",
       "      <td>NaN</td>\n",
       "      <td>NaN</td>\n",
       "      <td>NaN</td>\n",
       "      <td>NaN</td>\n",
       "      <td>World on a Wire</td>\n",
       "      <td>1973</td>\n",
       "      <td>original</td>\n",
       "    </tr>\n",
       "  </tbody>\n",
       "</table>\n",
       "</div>"
      ],
      "text/plain": [
       "     original_language                 original_title  \\\n",
       "28                  en                    Wicker Park   \n",
       "654                 en    Witness for the Prosecution   \n",
       "56                  en                     No Way Out   \n",
       "606                 en              This Gun for Hire   \n",
       "969                 ko                            시월애   \n",
       "432                 en                Night Must Fall   \n",
       "1029               NaN                            NaN   \n",
       "137                 en  The Day the Earth Stood Still   \n",
       "1191                en               A Yank at Oxford   \n",
       "1190               NaN                            NaN   \n",
       "\n",
       "                                                                                                 overview  \\\n",
       "28    Matthew, a young advertising executive in Chicago, puts his life and a business trip to China on...   \n",
       "654   Sir Wilfred Robarts, a famed barrister is released from the hospital, where he stayed for two mo...   \n",
       "56    Navy Lt. Tom Farrell meets a young woman, Susan Atwell , and they share a passionate fling. Farr...   \n",
       "606   A killer for hire named Raven kills his target. However, he believes that he was just killing an...   \n",
       "969   In the year 1999, a young woman leaves her quaint seaside house and returns to the city, leaving...   \n",
       "432   A psychotic killer gets in the good graces of his aging invalid employer, and worms his way into...   \n",
       "1029                                                                                                  NaN   \n",
       "137   A representative of an alien race that went through drastic evolution to survive its own climate...   \n",
       "1191  A brash young American aristocrat attending Oxford University gets a chance to prove himself and...   \n",
       "1190                                                                                                  NaN   \n",
       "\n",
       "      popularity release_date  vote_average  vote_count  \\\n",
       "28        13.522   2004-09-03         6.877       601.0   \n",
       "654        4.023   1982-12-04         6.056         9.0   \n",
       "56        12.791   1987-08-14         6.916       558.0   \n",
       "606        0.856   1991-01-09         0.000         0.0   \n",
       "969        7.913   2000-09-09         7.485       132.0   \n",
       "432        0.961   1964-03-18         7.094        16.0   \n",
       "1029         NaN          NaN           NaN         NaN   \n",
       "137       19.049   2008-12-10         5.588      3027.0   \n",
       "1191       1.706   1938-02-18         6.778         9.0   \n",
       "1190         NaN          NaN           NaN         NaN   \n",
       "\n",
       "                              movie  year    status  \n",
       "28                      Wicker Park  2004    remake  \n",
       "654     Witness for the Prosecution  1982    remake  \n",
       "56                       No Way Out  1987    remake  \n",
       "606               This Gun for Hire  1991    remake  \n",
       "969                         Il Mare  2000  original  \n",
       "432                 Night Must Fall  1964    remake  \n",
       "1029     The One Million Pound Note  1916  original  \n",
       "137   The Day the Earth Stood Still  2008    remake  \n",
       "1191               A Yank at Oxford  1938  original  \n",
       "1190                World on a Wire  1973  original  "
      ]
     },
     "execution_count": 4,
     "metadata": {},
     "output_type": "execute_result"
    }
   ],
   "source": [
    "movies_df.sample(10)"
   ]
  },
  {
   "attachments": {},
   "cell_type": "markdown",
   "id": "different-terrain",
   "metadata": {},
   "source": [
    "Provides descriptive statistics of the movies_df DataFrame, including both numerical and categorical columns."
   ]
  },
  {
   "cell_type": "code",
   "execution_count": 5,
   "id": "advanced-makeup",
   "metadata": {},
   "outputs": [
    {
     "data": {
      "text/html": [
       "<div>\n",
       "<style scoped>\n",
       "    .dataframe tbody tr th:only-of-type {\n",
       "        vertical-align: middle;\n",
       "    }\n",
       "\n",
       "    .dataframe tbody tr th {\n",
       "        vertical-align: top;\n",
       "    }\n",
       "\n",
       "    .dataframe thead th {\n",
       "        text-align: right;\n",
       "    }\n",
       "</style>\n",
       "<table border=\"1\" class=\"dataframe\">\n",
       "  <thead>\n",
       "    <tr style=\"text-align: right;\">\n",
       "      <th></th>\n",
       "      <th>original_language</th>\n",
       "      <th>original_title</th>\n",
       "      <th>overview</th>\n",
       "      <th>popularity</th>\n",
       "      <th>release_date</th>\n",
       "      <th>vote_average</th>\n",
       "      <th>vote_count</th>\n",
       "      <th>movie</th>\n",
       "      <th>year</th>\n",
       "      <th>status</th>\n",
       "    </tr>\n",
       "  </thead>\n",
       "  <tbody>\n",
       "    <tr>\n",
       "      <th>count</th>\n",
       "      <td>1149</td>\n",
       "      <td>1149</td>\n",
       "      <td>1145</td>\n",
       "      <td>1149.000000</td>\n",
       "      <td>1149</td>\n",
       "      <td>1149.000000</td>\n",
       "      <td>1149.000000</td>\n",
       "      <td>1197</td>\n",
       "      <td>1197</td>\n",
       "      <td>1197</td>\n",
       "    </tr>\n",
       "    <tr>\n",
       "      <th>unique</th>\n",
       "      <td>30</td>\n",
       "      <td>859</td>\n",
       "      <td>1114</td>\n",
       "      <td>NaN</td>\n",
       "      <td>1083</td>\n",
       "      <td>NaN</td>\n",
       "      <td>NaN</td>\n",
       "      <td>874</td>\n",
       "      <td>111</td>\n",
       "      <td>2</td>\n",
       "    </tr>\n",
       "    <tr>\n",
       "      <th>top</th>\n",
       "      <td>en</td>\n",
       "      <td>Brewster's Millions</td>\n",
       "      <td>An oppressed Mexican peasant village hires seven gunfighters to help defend their homes.</td>\n",
       "      <td>NaN</td>\n",
       "      <td>1960-10-12</td>\n",
       "      <td>NaN</td>\n",
       "      <td>NaN</td>\n",
       "      <td>Brewster's Millions</td>\n",
       "      <td>2006</td>\n",
       "      <td>remake</td>\n",
       "    </tr>\n",
       "    <tr>\n",
       "      <th>freq</th>\n",
       "      <td>912</td>\n",
       "      <td>5</td>\n",
       "      <td>4</td>\n",
       "      <td>NaN</td>\n",
       "      <td>4</td>\n",
       "      <td>NaN</td>\n",
       "      <td>NaN</td>\n",
       "      <td>5</td>\n",
       "      <td>33</td>\n",
       "      <td>668</td>\n",
       "    </tr>\n",
       "    <tr>\n",
       "      <th>mean</th>\n",
       "      <td>NaN</td>\n",
       "      <td>NaN</td>\n",
       "      <td>NaN</td>\n",
       "      <td>11.367768</td>\n",
       "      <td>NaN</td>\n",
       "      <td>6.204219</td>\n",
       "      <td>873.847694</td>\n",
       "      <td>NaN</td>\n",
       "      <td>NaN</td>\n",
       "      <td>NaN</td>\n",
       "    </tr>\n",
       "    <tr>\n",
       "      <th>std</th>\n",
       "      <td>NaN</td>\n",
       "      <td>NaN</td>\n",
       "      <td>NaN</td>\n",
       "      <td>17.888068</td>\n",
       "      <td>NaN</td>\n",
       "      <td>1.495829</td>\n",
       "      <td>1954.895235</td>\n",
       "      <td>NaN</td>\n",
       "      <td>NaN</td>\n",
       "      <td>NaN</td>\n",
       "    </tr>\n",
       "    <tr>\n",
       "      <th>min</th>\n",
       "      <td>NaN</td>\n",
       "      <td>NaN</td>\n",
       "      <td>NaN</td>\n",
       "      <td>0.600000</td>\n",
       "      <td>NaN</td>\n",
       "      <td>0.000000</td>\n",
       "      <td>0.000000</td>\n",
       "      <td>NaN</td>\n",
       "      <td>NaN</td>\n",
       "      <td>NaN</td>\n",
       "    </tr>\n",
       "    <tr>\n",
       "      <th>25%</th>\n",
       "      <td>NaN</td>\n",
       "      <td>NaN</td>\n",
       "      <td>NaN</td>\n",
       "      <td>2.956000</td>\n",
       "      <td>NaN</td>\n",
       "      <td>5.793000</td>\n",
       "      <td>22.000000</td>\n",
       "      <td>NaN</td>\n",
       "      <td>NaN</td>\n",
       "      <td>NaN</td>\n",
       "    </tr>\n",
       "    <tr>\n",
       "      <th>50%</th>\n",
       "      <td>NaN</td>\n",
       "      <td>NaN</td>\n",
       "      <td>NaN</td>\n",
       "      <td>7.956000</td>\n",
       "      <td>NaN</td>\n",
       "      <td>6.477000</td>\n",
       "      <td>143.000000</td>\n",
       "      <td>NaN</td>\n",
       "      <td>NaN</td>\n",
       "      <td>NaN</td>\n",
       "    </tr>\n",
       "    <tr>\n",
       "      <th>75%</th>\n",
       "      <td>NaN</td>\n",
       "      <td>NaN</td>\n",
       "      <td>NaN</td>\n",
       "      <td>13.724000</td>\n",
       "      <td>NaN</td>\n",
       "      <td>7.098000</td>\n",
       "      <td>752.000000</td>\n",
       "      <td>NaN</td>\n",
       "      <td>NaN</td>\n",
       "      <td>NaN</td>\n",
       "    </tr>\n",
       "    <tr>\n",
       "      <th>max</th>\n",
       "      <td>NaN</td>\n",
       "      <td>NaN</td>\n",
       "      <td>NaN</td>\n",
       "      <td>439.410000</td>\n",
       "      <td>NaN</td>\n",
       "      <td>10.000000</td>\n",
       "      <td>19867.000000</td>\n",
       "      <td>NaN</td>\n",
       "      <td>NaN</td>\n",
       "      <td>NaN</td>\n",
       "    </tr>\n",
       "  </tbody>\n",
       "</table>\n",
       "</div>"
      ],
      "text/plain": [
       "       original_language       original_title  \\\n",
       "count               1149                 1149   \n",
       "unique                30                  859   \n",
       "top                   en  Brewster's Millions   \n",
       "freq                 912                    5   \n",
       "mean                 NaN                  NaN   \n",
       "std                  NaN                  NaN   \n",
       "min                  NaN                  NaN   \n",
       "25%                  NaN                  NaN   \n",
       "50%                  NaN                  NaN   \n",
       "75%                  NaN                  NaN   \n",
       "max                  NaN                  NaN   \n",
       "\n",
       "                                                                                        overview  \\\n",
       "count                                                                                       1145   \n",
       "unique                                                                                      1114   \n",
       "top     An oppressed Mexican peasant village hires seven gunfighters to help defend their homes.   \n",
       "freq                                                                                           4   \n",
       "mean                                                                                         NaN   \n",
       "std                                                                                          NaN   \n",
       "min                                                                                          NaN   \n",
       "25%                                                                                          NaN   \n",
       "50%                                                                                          NaN   \n",
       "75%                                                                                          NaN   \n",
       "max                                                                                          NaN   \n",
       "\n",
       "         popularity release_date  vote_average    vote_count  \\\n",
       "count   1149.000000         1149   1149.000000   1149.000000   \n",
       "unique          NaN         1083           NaN           NaN   \n",
       "top             NaN   1960-10-12           NaN           NaN   \n",
       "freq            NaN            4           NaN           NaN   \n",
       "mean      11.367768          NaN      6.204219    873.847694   \n",
       "std       17.888068          NaN      1.495829   1954.895235   \n",
       "min        0.600000          NaN      0.000000      0.000000   \n",
       "25%        2.956000          NaN      5.793000     22.000000   \n",
       "50%        7.956000          NaN      6.477000    143.000000   \n",
       "75%       13.724000          NaN      7.098000    752.000000   \n",
       "max      439.410000          NaN     10.000000  19867.000000   \n",
       "\n",
       "                      movie  year  status  \n",
       "count                  1197  1197    1197  \n",
       "unique                  874   111       2  \n",
       "top     Brewster's Millions  2006  remake  \n",
       "freq                      5    33     668  \n",
       "mean                    NaN   NaN     NaN  \n",
       "std                     NaN   NaN     NaN  \n",
       "min                     NaN   NaN     NaN  \n",
       "25%                     NaN   NaN     NaN  \n",
       "50%                     NaN   NaN     NaN  \n",
       "75%                     NaN   NaN     NaN  \n",
       "max                     NaN   NaN     NaN  "
      ]
     },
     "execution_count": 5,
     "metadata": {},
     "output_type": "execute_result"
    }
   ],
   "source": [
    "movies_df.describe(include='all')"
   ]
  },
  {
   "attachments": {},
   "cell_type": "markdown",
   "id": "accurate-conservation",
   "metadata": {},
   "source": [
    "## Data Analysis "
   ]
  },
  {
   "attachments": {},
   "cell_type": "markdown",
   "id": "detailed-final",
   "metadata": {},
   "source": [
    "To find out what is the top 10 language of the movies in the dataset"
   ]
  },
  {
   "cell_type": "code",
   "execution_count": 6,
   "id": "demanding-particle",
   "metadata": {},
   "outputs": [
    {
     "data": {
      "image/png": "[encoded data removed]",
      "text/plain": [
       "<Figure size 432x288 with 1 Axes>"
      ]
     },
     "metadata": {
      "needs_background": "light"
     },
     "output_type": "display_data"
    }
   ],
   "source": [
    "language_counts = movies_df['original_language'].value_counts().head(10)\n",
    "\n",
    "# Create the bar plot\n",
    "plt.bar(language_counts.index, language_counts)\n",
    "\n",
    "# Add labels and title\n",
    "plt.xlabel('Original Languages')\n",
    "plt.ylabel('Counts')\n",
    "plt.title('Language Counts')\n",
    "plt.ylabel('Counts', rotation='horizontal')\n",
    "\n",
    "# Display the plot\n",
    "plt.show()"
   ]
  },
  {
   "attachments": {},
   "cell_type": "markdown",
   "id": "unauthorized-general",
   "metadata": {},
   "source": [
    "To find out what is the top 10 movies that has the highest popularity score in the dataset"
   ]
  },
  {
   "cell_type": "code",
   "execution_count": 7,
   "id": "established-standard",
   "metadata": {},
   "outputs": [
    {
     "data": {
      "image/png": "[encoded data removed]",
      "text/plain": [
       "<Figure size 432x288 with 1 Axes>"
      ]
     },
     "metadata": {
      "needs_background": "light"
     },
     "output_type": "display_data"
    }
   ],
   "source": [
    "# Sort the DataFrame by popularity in descending order\n",
    "sorted_df = movies_df.sort_values('popularity', ascending=False)\n",
    "\n",
    "# Select the top 10 movies\n",
    "top_10_popularity = sorted_df.head(10)\n",
    "\n",
    "# Create the bar plot\n",
    "plt.barh(top_10_popularity['original_title'], top_10_popularity['popularity'])\n",
    "\n",
    "# Add labels and title\n",
    "plt.xlabel('Popularity')\n",
    "plt.title('Top 10 Popularity by Movie')\n",
    "\n",
    "\n",
    "# Display the plot\n",
    "plt.show()"
   ]
  },
  {
   "cell_type": "code",
   "execution_count": 8,
   "id": "focused-closing",
   "metadata": {},
   "outputs": [
    {
     "name": "stdout",
     "output_type": "stream",
     "text": [
      "Movie: The Little Mermaid, Release date: 2023-05-18\n",
      "Movie: Turning Red, Release date: 2022-03-10\n",
      "Movie: The Little Mermaid, Release date: 1989-11-17\n",
      "Movie: The Godfather, Release date: 1972-03-14\n",
      "Movie: Evil Dead, Release date: 2013-04-05\n",
      "Movie: The Lion King, Release date: 1994-06-23\n",
      "Movie: Wrath of Man, Release date: 2021-04-22\n",
      "Movie: Prancer: A Christmas Tale, Release date: 2022-11-22\n",
      "Movie: Harry Potter and the Chamber of Secrets, Release date: 2002-11-13\n",
      "Movie: The Evil Dead, Release date: 1981-09-10\n"
     ]
    }
   ],
   "source": [
    "# iterate over each row of the DataFrame\n",
    "for index, row in top_10_popularity.iterrows():\n",
    "    print(f\"Movie: {row['original_title']}, Release date: {row['release_date']}\")"
   ]
  },
  {
   "attachments": {},
   "cell_type": "markdown",
   "id": "specialized-cosmetic",
   "metadata": {},
   "source": [
    "To find out what is the top 10 movies that get the most votes counts and see if it matches with the popularity score result"
   ]
  },
  {
   "cell_type": "code",
   "execution_count": 9,
   "id": "anticipated-explanation",
   "metadata": {},
   "outputs": [
    {
     "data": {
      "image/png": "[encoded data removed]",
      "text/plain": [
       "<Figure size 432x288 with 1 Axes>"
      ]
     },
     "metadata": {
      "needs_background": "light"
     },
     "output_type": "display_data"
    }
   ],
   "source": [
    "# Sort the DataFrame by vote counts in descending order\n",
    "sorted_df = movies_df.sort_values('vote_count', ascending=False)\n",
    "\n",
    "# Select the top 10 movies\n",
    "top_10_counts = sorted_df.head(10)\n",
    "\n",
    "# Create the bar plot\n",
    "plt.barh(top_10_counts['original_title'], top_10_counts['vote_count'])\n",
    "\n",
    "# Add labels and title\n",
    "plt.xlabel('Counts')\n",
    "plt.title('Top 10 Vote Counts Movies')\n",
    "\n",
    "\n",
    "# Display the plot\n",
    "plt.show()"
   ]
  },
  {
   "cell_type": "code",
   "execution_count": 10,
   "id": "enclosed-electricity",
   "metadata": {},
   "outputs": [
    {
     "name": "stdout",
     "output_type": "stream",
     "text": [
      "Movie: Harry Potter and the Chamber of Secrets, Release date: 2002-11-13\n",
      "Movie: The Godfather, Release date: 1972-03-14\n",
      "Movie: The Lion King, Release date: 1994-06-23\n",
      "Movie: Intouchables, Release date: 2011-11-02\n",
      "Movie: Beauty and the Beast, Release date: 2017-03-16\n",
      "Movie: I Am Legend, Release date: 2007-12-12\n",
      "Movie: Charlie and the Chocolate Factory, Release date: 2005-07-13\n",
      "Movie: The Departed, Release date: 2006-10-04\n",
      "Movie: A Star Is Born, Release date: 2018-09-20\n",
      "Movie: Ocean's Eleven, Release date: 2001-12-07\n"
     ]
    }
   ],
   "source": [
    "# iterate over each row of the DataFrame\n",
    "for index, row in top_10_counts.iterrows():\n",
    "    print(f\"Movie: {row['original_title']}, Release date: {row['release_date']}\")"
   ]
  },
  {
   "attachments": {},
   "cell_type": "markdown",
   "id": "clinical-discrimination",
   "metadata": {},
   "source": [
    "The vote counts and popularity score does not matches well.\n",
    "It could because that people vote for the movies that make them want to comment about it. It could be positive or negative.\n",
    "However, the popularity score is based on page views."
   ]
  },
  {
   "attachments": {},
   "cell_type": "markdown",
   "id": "accurate-canvas",
   "metadata": {},
   "source": [
    "To find out the top 10 movies that is in English in vote average score.\n",
    "In order to avoid the effect of outliers, I set the filter for vote counts to be higher than the mean."
   ]
  },
  {
   "cell_type": "code",
   "execution_count": 11,
   "id": "technical-garage",
   "metadata": {},
   "outputs": [
    {
     "data": {
      "image/png": "[encoded data removed]",
      "text/plain": [
       "<Figure size 432x288 with 1 Axes>"
      ]
     },
     "metadata": {
      "needs_background": "light"
     },
     "output_type": "display_data"
    }
   ],
   "source": [
    "# Filter the DataFrame \n",
    "language_filter = movies_df['original_language'] == 'en'\n",
    "vote_count_filter = movies_df['vote_count'] > 874\n",
    "\n",
    "# Sort the DataFrame by vote average in descending order\n",
    "sorted_df = movies_df.loc[language_filter&vote_count_filter].sort_values('vote_average', ascending=False)\n",
    "\n",
    "# Select the top 10 movies\n",
    "top_10_vote_average = sorted_df.head(10)\n",
    "\n",
    "# Create the bar plot\n",
    "plt.barh(top_10_vote_average['original_title'], top_10_vote_average['vote_average'])\n",
    "\n",
    "# Add labels and title\n",
    "plt.xlabel('Vote Average')\n",
    "plt.title('Top 10 Vote Average Movies')\n",
    "\n",
    "# Display the plot\n",
    "plt.show()"
   ]
  },
  {
   "cell_type": "code",
   "execution_count": 12,
   "id": "pregnant-corrections",
   "metadata": {},
   "outputs": [
    {
     "name": "stdout",
     "output_type": "stream",
     "text": [
      "Movie: The Godfather, Release date: 1972-03-14\n",
      "Movie: Psycho, Release date: 1960-06-22\n",
      "Movie: Rear Window, Release date: 1954-08-01\n",
      "Movie: The Lion King, Release date: 1994-06-23\n",
      "Movie: It's a Wonderful Life, Release date: 1946-12-20\n",
      "Movie: Witness for the Prosecution, Release date: 1957-12-17\n",
      "Movie: Scarface, Release date: 1983-12-09\n",
      "Movie: The Departed, Release date: 2006-10-04\n",
      "Movie: Double Indemnity, Release date: 1944-06-14\n",
      "Movie: The Thing, Release date: 1982-06-25\n"
     ]
    }
   ],
   "source": [
    "# iterate over each row of the DataFrame\n",
    "for index, row in top_10_vote_average.iterrows():\n",
    "    print(f\"Movie: {row['original_title']}, Release date: {row['release_date']}\")"
   ]
  }
 ],
 "metadata": {
  "kernelspec": {
   "display_name": "Python 3",
   "language": "python",
   "name": "python3"
  },
  "language_info": {
   "codemirror_mode": {
    "name": "ipython",
    "version": 3
   },
   "file_extension": ".py",
   "mimetype": "text/x-python",
   "name": "python",
   "nbconvert_exporter": "python",
   "pygments_lexer": "ipython3",
   "version": "3.8.3"
  }
 },
 "nbformat": 4,
 "nbformat_minor": 5
}
